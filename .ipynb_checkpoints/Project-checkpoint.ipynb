{
 "cells": [
  {
   "cell_type": "markdown",
   "metadata": {},
   "source": [
    "BEST NEIGHBORHOOD\n",
    "\n",
    "https://data.wprdc.org/dataset/police-incident-blotter \n",
    "\n",
    "https://data.wprdc.org/dataset/arrest-data\n",
    "\n",
    "https://data.wprdc.org/dataset/pbp-fire-arm-seizures\n"
   ]
  },
  {
   "cell_type": "code",
   "execution_count": 15,
   "metadata": {},
   "outputs": [],
   "source": [
    "#Imports\n",
    "import pandas as pd\n",
    "import numpy as np\n",
    "import math\n",
    "%matplotlib inline\n",
    "import matplotlib.pyplot as plt\n",
    "\n",
    "#Read data from csv files\n",
    "policeIncidents = pd.read_csv(\"policeBlotter.csv\")\n",
    "arrests = pd.read_csv(\"arrestData.csv\")\n",
    "firearmSeizures = pd.read_csv(\"firearmIncidents.csv\")\n",
    "\n",
    "#make dictionaries\n",
    "policeBlotter_dict = dict()\n",
    "arrests_dict = dict()\n",
    "firearms_dict = dict()"
   ]
  },
  {
   "cell_type": "code",
   "execution_count": 16,
   "metadata": {},
   "outputs": [
    {
     "name": "stdout",
     "output_type": "stream",
     "text": [
      "{'Knoxville': 61, 'Hazelwood': 63, 'Bluff': 51, 'East Allegheny': 52, 'Brookline': 79, 'South Side Slopes': 50, 'Bon Air': 14, 'Perry South': 44, 'Stanton Heights': 17, 'Brighton Heights': 59, 'Central Oakland': 45, 'Carrick': 105, 'Manchester': 18, 'Crafton Heights': 50, 'East Liberty': 79, 'California-Kirkbride': 24, 'Central Business District': 253, 'Arlington Heights': 8, 'Lincoln-Lemington-Belmar': 61, 'Homewood North': 63, 'North Shore': 61, 'Lincoln Place': 13, 'Garfield': 36, 'West Oakland': 15, 'Point Breeze': 22, 'Homewood South': 59, 'Strip District': 44, 'Northview Heights': 24, 'Homewood West': 19, 'Allegheny West': 8, 'Sheraden': 61, 'Outside City': 17, 'Beechview': 46, 'South Oakland': 19, 'Squirrel Hill North': 33, 'South Side Flats': 135, 'Middle Hill': 50, 'Spring Hill-City View': 23, 'Allegheny Center': 30, nan: 32, 'Glen Hazel': 9, 'Squirrel Hill South': 60, 'Chateau': 33, 'Bloomfield': 58, 'Mount Washington': 96, 'Fairywood': 7, 'Shadyside': 72, 'Crawford-Roberts': 41, 'Perry North': 15, 'Lower Lawrenceville': 23, 'Troy Hill': 24, 'Central Lawrenceville': 36, 'Allentown': 43, 'Central North Side': 15, 'East Hills': 35, 'North Oakland': 38, 'Duquesne Heights': 18, 'Esplen': 12, 'Overbrook': 20, 'Greenfield': 35, 'Larimer': 27, 'Morningside': 14, 'Point Breeze North': 41, 'Terrace Village': 21, 'Marshall-Shadeland': 60, 'Bedford Dwellings': 24, 'Banksville': 10, 'Elliott': 23, 'Upper Lawrenceville': 17, 'Westwood': 11, 'Windgap': 6, 'Upper Hill': 19, 'Highland Park': 24, 'Chartiers City': 9, 'Arlington': 18, 'Spring Garden': 9, 'Mount Oliver': 4, 'South Shore': 9, 'West End': 16, 'Friendship': 6, 'Fineview': 12, 'Regent Square': 2, 'St. Clair': 4, 'Beltzhoover': 19, 'Polish Hill': 8, 'Hays': 2, 'Outside State': 3, 'Summer Hill': 2, 'New Homestead': 4, 'Outside County': 1, 'East Carnegie': 3, 'Oakwood': 2, 'Swisshelm Park': 2, 'Ridgemont': 1}\n",
      "{'Bloomfield': 880, 'Outside City': 274, 'Westwood': 203, 'East Allegheny': 1893, 'Crafton Heights': 513, 'Greenfield': 473, 'Brookline': 1196, 'Regent Square': 32, 'East Liberty': 1652, nan: 2203, 'East Hills': 1026, 'Carrick': 2102, 'Allegheny Center': 1122, 'South Side Flats': 3053, 'Sheraden': 1132, 'East Carnegie': 47, 'Golden Triangle/Civic Arena': 83, 'Point Breeze North': 249, 'Perry South': 954, 'Allentown': 855, 'North Shore': 722, 'Marshall-Shadeland': 1332, 'Central Oakland': 469, 'Middle Hill': 844, 'Strip District': 440, 'Lincoln-Lemington-Belmar': 1148, 'Central Northside': 23, 'Troy Hill-Herrs Island': 6, 'Highland Park': 502, 'Homewood North': 1742, 'Northview Heights': 626, 'Brighton Heights': 978, 'Hazelwood': 1225, 'Perry North': 554, 'Bedford Dwellings': 582, 'Elliott': 588, 'Beechview': 1076, 'Fineview': 750, 'Glen Hazel': 143, 'Spring Hill-City View': 630, 'Bluff': 1313, 'Manchester': 439, 'Homewood West': 699, 'Outside County': 49, 'Point Breeze': 283, 'Homewood South': 1863, 'Squirrel Hill South': 727, 'Terrace Village': 255, 'Upper Lawrenceville': 170, 'Arlington': 263, 'South Side Slopes': 714, 'Lower Lawrenceville': 232, 'Garfield': 628, 'Lincoln Place': 190, 'Larimer': 770, 'Mount Washington': 1280, 'California-Kirkbride': 255, 'Banksville': 256, 'Bon Air': 230, 'South Shore': 268, 'Beltzhoover': 461, 'Knoxville': 1180, 'Chateau': 393, 'Crawford-Roberts': 734, 'Polish Hill': 144, 'Fairywood': 108, 'West End': 250, 'Shadyside': 855, 'Morningside': 173, 'Overbrook': 280, 'Friendship': 151, 'North Oakland': 390, 'Central Lawrenceville': 398, 'Oakwood': 78, 'Upper Hill': 325, 'South Oakland': 311, 'West Oakland': 274, 'Spring Garden': 200, 'Allegheny West': 115, 'St. Clair': 45, 'Stanton Heights': 199, 'Esplen': 186, 'Squirrel Hill North': 252, 'Mt. Oliver Neighborhood': 2, 'Summer Hill': 63, 'Arlington Heights': 130, 'Troy Hill': 379, 'Central Business District': 3570, 'Central North Side': 760, 'Mount Oliver': 111, 'Windgap': 103, 'Outside State': 57, 'Duquesne Heights': 177, 'New Homestead': 38, 'Ridgemont': 32, 'Swisshelm Park': 38, 'Hays': 98, 'Chartiers City': 38, 'Mt. Oliver Boro': 18}\n",
      "{'Mount Oliver Borough': 7, 'Sheraden': 108, 'Terrace Village': 40, 'Brighton Heights': 81, nan: 771, 'Westwood': 10, 'East Liberty': 74, 'Upper Lawrenceville': 11, 'Marshall-Shadeland': 104, 'Beechview': 64, 'East Hills': 106, 'Arlington': 28, 'Arlington Heights': 8, 'Mount Washington': 78, 'South Side Flats': 177, 'Hazelwood': 112, 'Homewood South': 250, 'Greenfield': 22, 'Bloomfield': 38, 'Beltzhoover': 43, 'Homewood North': 130, 'Upper Hill': 28, 'Perry South': 110, 'Lincoln-Lemington-Belmar': 101, 'Bedford Dwellings': 68, 'Homewood West': 51, 'Carrick': 114, 'Central Northside': 59, 'Chateau': 22, 'Fineview': 61, 'Chartiers City': 4, 'Larimer': 107, 'Polish Hill': 10, 'South Shore': 12, 'Highland Park': 30, 'Knoxville': 96, 'Lower Lawrenceville': 13, 'Allentown': 65, 'Spring Hill-City View': 65, 'Garfield': 78, 'Bluff': 49, 'Overbrook': 25, 'South Side Slopes': 36, 'Central Business District': 111, 'Banksville': 10, 'Perry North': 33, 'Friendship': 3, 'Crawford-Roberts': 50, 'Middle Hill': 88, 'Brookline': 51, 'Point Breeze': 23, 'Crafton Heights': 42, 'Northview Heights': 48, 'South Oakland': 15, 'Point Breeze North': 17, 'East Allegheny': 51, 'Elliott': 39, 'Fairywood': 7, 'Shadyside': 25, 'Allegheny West': 16, 'Manchester': 64, 'North Oakland': 14, 'Troy Hill': 33, 'West Oakland': 13, 'Summer Hill': 2, 'Spring Garden': 9, 'Stanton Heights': 13, 'Allegheny Center': 15, 'Glen Hazel': 13, 'Squirrel Hill South': 33, 'California-Kirkbride': 29, 'Strip District': 22, 'Squirrel Hill North': 10, 'Morningside': 12, 'Central Oakland': 16, 'Central Lawrenceville': 22, 'Regent Square': 4, 'St. Clair': 4, 'Duquesne Heights': 15, 'Oakwood': 4, 'Windgap': 11, 'Bon Air': 8, 'North Shore': 16, 'Lincoln Place': 8, 'Mt. Oliver': 3, 'West End': 6, 'Esplen': 9, 'Hays': 7, 'Swisshelm Park': 1}\n"
     ]
    }
   ],
   "source": [
    "for i in range(len(policeIncidents.index)):\n",
    "    word = policeIncidents.loc[i, \"INCIDENTNEIGHBORHOOD\"]\n",
    "    if word in policeBlotter_dict:\n",
    "        policeBlotter_dict[word] = policeBlotter_dict[word] + 1\n",
    "    else:\n",
    "        policeBlotter_dict[word] = 1\n",
    "        \n",
    "for j in range(len(arrests.index)):\n",
    "    word = arrests.loc[j, \"INCIDENTNEIGHBORHOOD\"]\n",
    "    if word in arrests_dict:\n",
    "        arrests_dict[word] = arrests_dict[word] + 1\n",
    "    else:\n",
    "        arrests_dict[word] = 1\n",
    "        \n",
    "for k in range(len(firearmSeizures.index)):\n",
    "    word = firearmSeizures.loc[k, \"neighborhood\"]\n",
    "    if word in firearms_dict:\n",
    "        firearms_dict[word] = firearms_dict[word] + 1\n",
    "    else:\n",
    "        firearms_dict[word] = 1\n",
    "        \n",
    "\n",
    "print(policeBlotter_dict)\n",
    "print(arrests_dict)\n",
    "print(firearms_dict)"
   ]
  },
  {
   "cell_type": "code",
   "execution_count": null,
   "metadata": {},
   "outputs": [],
   "source": []
  }
 ],
 "metadata": {
  "kernelspec": {
   "display_name": "Python 3",
   "language": "python",
   "name": "python3"
  },
  "language_info": {
   "codemirror_mode": {
    "name": "ipython",
    "version": 3
   },
   "file_extension": ".py",
   "mimetype": "text/x-python",
   "name": "python",
   "nbconvert_exporter": "python",
   "pygments_lexer": "ipython3",
   "version": "3.8.3"
  }
 },
 "nbformat": 4,
 "nbformat_minor": 4
}
